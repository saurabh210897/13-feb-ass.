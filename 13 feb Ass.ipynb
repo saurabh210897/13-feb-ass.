{
 "cells": [
  {
   "cell_type": "code",
   "execution_count": 1,
   "id": "8255e5fd-f4d7-4f16-9b69-b1cf3b3a3b0e",
   "metadata": {},
   "outputs": [],
   "source": [
    "# Q1. Explain why we have to use the Exception class while creating a Custom Exception.\n",
    "\n",
    "# Note: Here Exception class refers to the base class for all the exceptions.\n",
    "\n",
    "# Q2. Write a python program to print Python Exception Hierarchy.\n",
    "\n",
    "# Q3. What errors are defined in the ArithmeticError class? Explain any two with an example.\n",
    "\n",
    "# Q4. Why LookupError class is used? Explain with an example KeyError and IndexError.\n",
    "\n",
    "# Q5. Explain ImportError. What is ModuleNotFoundError?\n",
    "\n",
    "# Q6. List down some best practices for exception handling in python."
   ]
  },
  {
   "cell_type": "code",
   "execution_count": 3,
   "id": "8be9004f-661d-40d7-bebc-e4c0ca876d28",
   "metadata": {},
   "outputs": [],
   "source": [
    "#Q1. Explain why we have to use the Exception class while creating a Custom Exception.\n",
    "# Note: Here Exception class refers to the base class for all the exceptions."
   ]
  },
  {
   "cell_type": "code",
   "execution_count": 4,
   "id": "b78cfbea-d141-41b0-a163-964f0435b7fe",
   "metadata": {},
   "outputs": [],
   "source": [
    "# When creating a custom exception in Python, it is necessary to use the Exception class as the base class for the new exception. \n",
    "# This is because the Exception class provides the necessary structure and methods for creating and handling exceptions in Python.\n",
    "\n",
    "# By using the Exception class as the base class for the custom exception, the new exception inherits all the functionality of the Exception class, \n",
    "# such as the ability to raise and catch exceptions, as well as the ability to add custom error messages and data to the exception.\n",
    "\n",
    "# In addition, using the Exception class as the base class ensures that the new exception is compatible with the built-in Python exception handling mechanisms. \n",
    "# This means that the new exception can be raised, caught, and handled using the same syntax and methods as the built-in exceptions in Python.\n",
    "\n",
    "# Overall, using the Exception class as the base class for custom exceptions provides a consistent and reliable way to create and handle exceptions in Python, \n",
    "# ensuring that custom exceptions work seamlessly with the existing Python exception handling mechanisms."
   ]
  },
  {
   "cell_type": "code",
   "execution_count": 5,
   "id": "8f67422b-ea53-4dd4-beeb-922374897d3d",
   "metadata": {},
   "outputs": [],
   "source": [
    "#Q2. Write a python program to print Python Exception Hierarchy."
   ]
  },
  {
   "cell_type": "code",
   "execution_count": 6,
   "id": "5c80cdd9-df68-4c97-9635-1830a1b080f0",
   "metadata": {},
   "outputs": [
    {
     "name": "stdout",
     "output_type": "stream",
     "text": [
      "TypeError\n",
      "-- FloatOperation\n",
      "-- MultipartConversionError\n",
      "StopAsyncIteration\n",
      "StopIteration\n",
      "ImportError\n",
      "-- ModuleNotFoundError\n",
      "-- ZipImportError\n",
      "OSError\n",
      "-- ConnectionError\n",
      "-- BlockingIOError\n",
      "-- ChildProcessError\n",
      "-- FileExistsError\n",
      "-- FileNotFoundError\n",
      "-- IsADirectoryError\n",
      "-- NotADirectoryError\n",
      "-- InterruptedError\n",
      "-- PermissionError\n",
      "-- ProcessLookupError\n",
      "-- TimeoutError\n",
      "-- UnsupportedOperation\n",
      "-- itimer_error\n",
      "-- herror\n",
      "-- gaierror\n",
      "-- SSLError\n",
      "-- Error\n",
      "-- SpecialFileError\n",
      "-- ExecError\n",
      "-- ReadError\n",
      "-- URLError\n",
      "-- BadGzipFile\n",
      "EOFError\n",
      "-- IncompleteReadError\n",
      "RuntimeError\n",
      "-- RecursionError\n",
      "-- NotImplementedError\n",
      "-- _DeadlockError\n",
      "-- BrokenBarrierError\n",
      "-- BrokenExecutor\n",
      "-- SendfileNotAvailableError\n",
      "-- ExtractionError\n",
      "-- VariableError\n",
      "NameError\n",
      "-- UnboundLocalError\n",
      "AttributeError\n",
      "-- FrozenInstanceError\n",
      "SyntaxError\n",
      "-- IndentationError\n",
      "LookupError\n",
      "-- IndexError\n",
      "-- KeyError\n",
      "-- CodecRegistryError\n",
      "ValueError\n",
      "-- UnicodeError\n",
      "-- UnsupportedOperation\n",
      "-- JSONDecodeError\n",
      "-- SSLCertVerificationError\n",
      "-- Error\n",
      "-- UnsupportedDigestmodError\n",
      "-- IllegalMonthError\n",
      "-- IllegalWeekdayError\n",
      "-- ParserError\n",
      "-- ClassNotFound\n",
      "-- ClipboardEmpty\n",
      "-- MessageDefect\n",
      "-- MacroToEdit\n",
      "-- InvalidFileException\n",
      "-- UnequalIterablesError\n",
      "-- InvalidVersion\n",
      "-- _InvalidELFFileHeader\n",
      "-- InvalidWheelFilename\n",
      "-- InvalidSdistFilename\n",
      "-- InvalidSpecifier\n",
      "-- InvalidMarker\n",
      "-- UndefinedComparison\n",
      "-- UndefinedEnvironmentName\n",
      "-- InvalidRequirement\n",
      "-- InvalidVersion\n",
      "AssertionError\n",
      "ArithmeticError\n",
      "-- FloatingPointError\n",
      "-- OverflowError\n",
      "-- ZeroDivisionError\n",
      "-- DecimalException\n",
      "SystemError\n",
      "-- CodecRegistryError\n",
      "ReferenceError\n",
      "MemoryError\n",
      "BufferError\n",
      "Warning\n",
      "-- UserWarning\n",
      "-- EncodingWarning\n",
      "-- DeprecationWarning\n",
      "-- PendingDeprecationWarning\n",
      "-- SyntaxWarning\n",
      "-- RuntimeWarning\n",
      "-- FutureWarning\n",
      "-- ImportWarning\n",
      "-- UnicodeWarning\n",
      "-- BytesWarning\n",
      "-- ResourceWarning\n",
      "-- DeprecatedTzFormatWarning\n",
      "-- PkgResourcesDeprecationWarning\n",
      "_OptionError\n",
      "_Error\n",
      "error\n",
      "Verbose\n",
      "Error\n",
      "SubprocessError\n",
      "-- CalledProcessError\n",
      "-- TimeoutExpired\n",
      "TokenError\n",
      "StopTokenizing\n",
      "ClassFoundException\n",
      "EndOfBlock\n",
      "TraitError\n",
      "Error\n",
      "Error\n",
      "-- CancelledError\n",
      "-- TimeoutError\n",
      "-- InvalidStateError\n",
      "_GiveupOnSendfile\n",
      "error\n",
      "Incomplete\n",
      "TimeoutError\n",
      "InvalidStateError\n",
      "LimitOverrunError\n",
      "QueueEmpty\n",
      "QueueFull\n",
      "Empty\n",
      "Full\n",
      "ArgumentError\n",
      "ZMQBaseError\n",
      "-- ZMQError\n",
      "-- ZMQBindError\n",
      "-- NotDone\n",
      "PickleError\n",
      "-- PicklingError\n",
      "-- UnpicklingError\n",
      "_Stop\n",
      "ArgumentError\n",
      "ArgumentTypeError\n",
      "ConfigError\n",
      "-- ConfigLoaderError\n",
      "-- ConfigFileNotFound\n",
      "ConfigurableError\n",
      "-- MultipleInstanceError\n",
      "ApplicationError\n",
      "error\n",
      "TimeoutError\n",
      "error\n",
      "ReturnValueIgnoredError\n",
      "KeyReuseError\n",
      "UnknownKeyError\n",
      "LeakedCallbackError\n",
      "BadYieldError\n",
      "ReturnValueIgnoredError\n",
      "Return\n",
      "InvalidPortNumber\n",
      "error\n",
      "LZMAError\n",
      "RegistryError\n",
      "_GiveupOnFastCopy\n",
      "Error\n",
      "-- NoSectionError\n",
      "-- DuplicateSectionError\n",
      "-- DuplicateOptionError\n",
      "-- NoOptionError\n",
      "-- InterpolationError\n",
      "-- ParsingError\n",
      "NoIPAddresses\n",
      "BadZipFile\n",
      "LargeZipFile\n",
      "BadEntryPoint\n",
      "NoSuchEntryPoint\n",
      "DuplicateKernelError\n",
      "ErrorDuringImport\n",
      "NotOneValueFound\n",
      "CannotEval\n",
      "OptionError\n",
      "BdbQuit\n",
      "Restart\n",
      "ExceptionPexpect\n",
      "-- EOF\n",
      "-- TIMEOUT\n",
      "PtyProcessError\n",
      "FindCmdError\n",
      "HomeDirError\n",
      "ProfileDirError\n",
      "IPythonCoreError\n",
      "-- TryNext\n",
      "-- UsageError\n",
      "-- StdinNotImplementedError\n",
      "InputRejected\n",
      "GetoptError\n",
      "ErrorToken\n",
      "PrefilterError\n",
      "AliasError\n",
      "-- InvalidAliasError\n",
      "Error\n",
      "-- InterfaceError\n",
      "-- DatabaseError\n",
      "Warning\n",
      "SpaceInInput\n",
      "DOMException\n",
      "-- IndexSizeErr\n",
      "-- DomstringSizeErr\n",
      "-- HierarchyRequestErr\n",
      "-- WrongDocumentErr\n",
      "-- InvalidCharacterErr\n",
      "-- NoDataAllowedErr\n",
      "-- NoModificationAllowedErr\n",
      "-- NotFoundErr\n",
      "-- NotSupportedErr\n",
      "-- InuseAttributeErr\n",
      "-- InvalidStateErr\n",
      "-- SyntaxErr\n",
      "-- InvalidModificationErr\n",
      "-- NamespaceErr\n",
      "-- InvalidAccessErr\n",
      "-- ValidationErr\n",
      "ValidationError\n",
      "EditReadOnlyBuffer\n",
      "_Retry\n",
      "InvalidLayoutError\n",
      "HeightIsUnknownError\n",
      "ParserSyntaxError\n",
      "InternalParseError\n",
      "_PositionUpdatingFinished\n",
      "SimpleGetItemNotFound\n",
      "UncaughtAttributeError\n",
      "HasNoContext\n",
      "ParamIssue\n",
      "_JediError\n",
      "-- InternalError\n",
      "-- WrongVersion\n",
      "-- RefactoringError\n",
      "OnErrorLeaf\n",
      "InvalidPythonEnvironment\n",
      "MessageError\n",
      "-- MessageParseError\n",
      "-- MultipartConversionError\n",
      "-- CharsetError\n",
      "Error\n",
      "HTTPException\n",
      "-- NotConnected\n",
      "-- InvalidURL\n",
      "-- UnknownProtocol\n",
      "-- UnknownTransferEncoding\n",
      "-- UnimplementedFileMode\n",
      "-- IncompleteRead\n",
      "-- ImproperConnectionState\n",
      "-- BadStatusLine\n",
      "-- LineTooLong\n",
      "InteractivelyDefined\n",
      "KillEmbedded\n",
      "Error\n",
      "-- NoSuchProcess\n",
      "-- AccessDenied\n",
      "-- TimeoutExpired\n",
      "_Ipv6UnsupportedError\n",
      "QueueEmpty\n",
      "QueueFull\n",
      "DebuggerInitializationError\n",
      "ExpatError\n",
      "Error\n",
      "-- ProtocolError\n",
      "-- ResponseError\n",
      "-- Fault\n",
      "ParseBaseException\n",
      "-- ParseException\n",
      "-- ParseFatalException\n",
      "RecursiveGrammarException\n",
      "ResolutionError\n",
      "-- VersionConflict\n",
      "-- DistributionNotFound\n",
      "-- UnknownExtra\n",
      "_Error\n",
      "UnableToResolveVariableException\n",
      "InvalidTypeInArgsException\n"
     ]
    }
   ],
   "source": [
    "# Get the built-in Exception class and its subclasses\n",
    "exceptions = Exception.__subclasses__()\n",
    "\n",
    "# Print the Exception Hierarchy\n",
    "for exception in exceptions:\n",
    "    print(exception.__name__)\n",
    "    sub_exceptions = exception.__subclasses__()\n",
    "    for sub_exception in sub_exceptions:\n",
    "        print(\"--\", sub_exception.__name__)\n"
   ]
  },
  {
   "cell_type": "code",
   "execution_count": 7,
   "id": "5050f337-651c-4cac-b330-91efbde5fe4d",
   "metadata": {},
   "outputs": [],
   "source": [
    "#Q3. What errors are defined in the ArithmeticError class? Explain any two with an example."
   ]
  },
  {
   "cell_type": "code",
   "execution_count": 8,
   "id": "73af0c5a-0ef6-4f54-9a09-3b6460a11931",
   "metadata": {},
   "outputs": [
    {
     "ename": "SyntaxError",
     "evalue": "invalid syntax (2547064593.py, line 9)",
     "output_type": "error",
     "traceback": [
      "\u001b[0;36m  Cell \u001b[0;32mIn[8], line 9\u001b[0;36m\u001b[0m\n\u001b[0;31m    >>> 10/0\u001b[0m\n\u001b[0m    ^\u001b[0m\n\u001b[0;31mSyntaxError\u001b[0m\u001b[0;31m:\u001b[0m invalid syntax\n"
     ]
    }
   ],
   "source": [
    "# The ArithmeticError class is a built-in class in Python that is a subclass of the Exception class. \n",
    "# This class is used to represent errors that occur during arithmetic operations. Some common errors that are defined in the ArithmeticError class include ZeroDivisionError,\n",
    "# OverflowError, and FloatingPointError.\n",
    "\n",
    "# Two examples of errors defined in the ArithmeticError class are:\n",
    "\n",
    "# ZeroDivisionError: This error is raised when an attempt is made to divide a number by \n",
    "\n",
    ">>> 10/0\n",
    "Traceback (most recent call last):\n",
    "  File \"<stdin>\", line 1, in <module>\n",
    "ZeroDivisionError: division by zero\n"
   ]
  },
  {
   "cell_type": "code",
   "execution_count": 9,
   "id": "d93050f8-8cbd-4a62-bbe1-e428e72c61dd",
   "metadata": {},
   "outputs": [
    {
     "ename": "SyntaxError",
     "evalue": "invalid syntax (3617527038.py, line 4)",
     "output_type": "error",
     "traceback": [
      "\u001b[0;36m  Cell \u001b[0;32mIn[9], line 4\u001b[0;36m\u001b[0m\n\u001b[0;31m    >>> import sys\u001b[0m\n\u001b[0m    ^\u001b[0m\n\u001b[0;31mSyntaxError\u001b[0m\u001b[0;31m:\u001b[0m invalid syntax\n"
     ]
    }
   ],
   "source": [
    "#OverflowError: This error is raised when a calculation exceeds the maximum limit that can be represented by a Python integer. For example:\n",
    "\n",
    "\n",
    ">>> import sys\n",
    ">>> sys.maxsize + 1\n",
    "Traceback (most recent call last):\n",
    "  File \"<stdin>\", line 1, in <module>\n",
    "OverflowError: Python int too large to convert to C long\n"
   ]
  },
  {
   "cell_type": "code",
   "execution_count": 10,
   "id": "8668be58-5517-4d29-a086-2b1110f713a8",
   "metadata": {},
   "outputs": [],
   "source": [
    "#Q4. Why LookupError class is used? Explain with an example KeyError and IndexError."
   ]
  },
  {
   "cell_type": "code",
   "execution_count": 11,
   "id": "7ed501d5-6d84-4e2e-9ff5-a3596c7d5871",
   "metadata": {},
   "outputs": [],
   "source": [
    "# LookupError is a base class in Python's exception hierarchy that is used to indicate errors that occur when a key or index is not found in a collection such as a dictionary, \n",
    "# list, or tuple.\n",
    "\n",
    "# A LookupError is raised when an invalid key or index is used to access a collection. It can be caught with a try-except block, \n",
    "# and can be used to handle different types of errors that may occur when working with collections.\n",
    "\n",
    "# Two common types of LookupError are KeyError and IndexError:"
   ]
  },
  {
   "cell_type": "code",
   "execution_count": 12,
   "id": "aef66650-7cfa-4e7f-83a4-578dce03f5a0",
   "metadata": {},
   "outputs": [
    {
     "name": "stdout",
     "output_type": "stream",
     "text": [
      "'key2'\n"
     ]
    }
   ],
   "source": [
    "try :\n",
    "    d = {\"key\" :\"sudh\" , 1 : [2,3,4,5]}\n",
    "    print(d[\"key2\"])\n",
    "except KeyError as e : \n",
    "    print(e)"
   ]
  },
  {
   "cell_type": "code",
   "execution_count": 13,
   "id": "dcc73b0b-c36e-4c56-9719-6e0020bae12e",
   "metadata": {},
   "outputs": [
    {
     "name": "stdout",
     "output_type": "stream",
     "text": [
      "list index out of range\n"
     ]
    }
   ],
   "source": [
    "try :\n",
    "    l = [2,3,4,5]\n",
    "    print(l[6])\n",
    "except IndexError as e :\n",
    "    print(e)"
   ]
  },
  {
   "cell_type": "code",
   "execution_count": 14,
   "id": "66125683-e797-438d-b0d2-eb539728b882",
   "metadata": {},
   "outputs": [],
   "source": [
    "#Q5. Explain ImportError. What is ModuleNotFoundError?"
   ]
  },
  {
   "cell_type": "code",
   "execution_count": 15,
   "id": "daae22aa-feaa-473f-b804-9f9bb5154657",
   "metadata": {},
   "outputs": [
    {
     "name": "stdout",
     "output_type": "stream",
     "text": [
      "No module named 'sudh'\n"
     ]
    },
    {
     "data": {
      "text/plain": [
       "2.5"
      ]
     },
     "execution_count": 15,
     "metadata": {},
     "output_type": "execute_result"
    }
   ],
   "source": [
    "# ImportError is a built-in Python exception that is raised when the import statement fails to import a module. This can happen if the module does not exist, \n",
    "# if there is a syntax error in the module, or if there is an issue with the module's dependencies.\n",
    "\n",
    "try :\n",
    "    import sudh\n",
    "except ImportError as e :\n",
    "    print(e)\n",
    "10/4"
   ]
  },
  {
   "cell_type": "code",
   "execution_count": 16,
   "id": "6af8f990-54a7-4010-bf2d-aefda8431d9d",
   "metadata": {},
   "outputs": [],
   "source": [
    "#Q6. List down some best practices for exception handling in python."
   ]
  },
  {
   "cell_type": "code",
   "execution_count": null,
   "id": "cca17443-d561-486f-8584-00c2fb324293",
   "metadata": {},
   "outputs": [],
   "source": [
    "#use always a specific exception\n",
    "#print always a proper message \n",
    "#always try to log your error\n",
    "#alwyas avoid to write a multiple exception handling \n",
    "#Document all the error \n",
    "#cleanup all the resources"
   ]
  }
 ],
 "metadata": {
  "kernelspec": {
   "display_name": "Python 3 (ipykernel)",
   "language": "python",
   "name": "python3"
  },
  "language_info": {
   "codemirror_mode": {
    "name": "ipython",
    "version": 3
   },
   "file_extension": ".py",
   "mimetype": "text/x-python",
   "name": "python",
   "nbconvert_exporter": "python",
   "pygments_lexer": "ipython3",
   "version": "3.10.8"
  }
 },
 "nbformat": 4,
 "nbformat_minor": 5
}
